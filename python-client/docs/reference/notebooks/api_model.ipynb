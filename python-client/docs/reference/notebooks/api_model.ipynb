{
 "cells": [
  {
   "attachments": {},
   "cell_type": "markdown",
   "id": "f6dc35b9",
   "metadata": {},
   "source": [
    "# Connecting Giskard to an AI model hosted by API"
   ]
  },
  {
   "cell_type": "code",
   "execution_count": null,
   "id": "0361f8a8",
   "metadata": {},
   "outputs": [],
   "source": [
    "pip install \"giskard>=2.0.0b\" -U"
   ]
  },
  {
   "cell_type": "code",
   "execution_count": 1,
   "id": "fd6208a2",
   "metadata": {},
   "outputs": [],
   "source": [
    "import pandas as pd\n",
    "import requests\n",
    "\n",
    "import giskard"
   ]
  },
  {
   "cell_type": "code",
   "execution_count": null,
   "id": "2a30c144",
   "metadata": {},
   "outputs": [],
   "source": [
    "def prediction_function(input_data: pd.DataFrame):\n",
    "    # Set up the API endpoint URL and parameters\n",
    "    api_endpoint = \"https://api.example.com/predict\"\n",
    "    api_params = {\"input\": input_data}\n",
    "\n",
    "    # Send a GET request to the API endpoint and get the response\n",
    "    response = requests.get(api_endpoint, params=api_params)\n",
    "\n",
    "    # Raise error if an error has occurred\n",
    "    response.raise_for_status()\n",
    "\n",
    "    # Extract the predictions from the JSON response"
   ]
  },
  {
   "cell_type": "code",
   "execution_count": null,
   "id": "23e3f716",
   "metadata": {},
   "outputs": [],
   "source": [
    "# Wrap your model with Giskard.Model:\n",
    "giskard_model = giskard.Model(\n",
    "    model=prediction_function,\n",
    "    model_type=\"classification\",\n",
    "    feature_names=[\"feature1\", \"feature2\", \"feature3\"],\n",
    "    classification_labels=[\"label1\", \"label2\"],\n",
    ")"
   ]
  },
  {
   "cell_type": "code",
   "execution_count": null,
   "id": "5028344d",
   "metadata": {},
   "outputs": [],
   "source": [
    "# Wrap your Pandas DataFrame with Giskard.Dataset, containing examples such as:\n",
    "giskard_dataset = giskard.Dataset(df=..., target=\"target\")"
   ]
  },
  {
   "cell_type": "code",
   "execution_count": null,
   "id": "f1b5f71b",
   "metadata": {},
   "outputs": [],
   "source": [
    "# Then apply the scan\n",
    "results = giskard.scan(giskard_model, giskard_dataset)"
   ]
  },
  {
   "cell_type": "code",
   "execution_count": null,
   "id": "1e3bbe54",
   "metadata": {},
   "outputs": [],
   "source": [
    "display(results)"
   ]
  },
  {
   "cell_type": "markdown",
   "source": [
    "<div class=\"alert alert-info\">\n",
    "Connecting Google Colab with the Giskard server\n",
    "\n",
    "If you are using Google Colab and you want to install the Giskard server **locally**, you can run the Giskard server by executing this line in the terminal of your **local** machine (see the [documentation](https://docs.giskard.ai/en/latest/guides/installation_app/index.html)):\n",
    "\n",
    "> giskard server start\n",
    "\n",
    "Once the Giskard server is running, from the same terminal on your **local** machine, you can run:\n",
    "\n",
    "> giskard server expose\n",
    "\n",
    "This will provide you with the code snippets that you can copy and paste into your Colab notebook to establish a connection with your locally installed Giskard server\n",
    "</div>"
   ],
   "metadata": {
    "collapsed": false
   }
  }
 ],
 "metadata": {
  "kernelspec": {
   "display_name": ".venv",
   "language": "python",
   "name": "python3"
  },
  "language_info": {
   "codemirror_mode": {
    "name": "ipython",
    "version": 3
   },
   "file_extension": ".py",
   "mimetype": "text/x-python",
   "name": "python",
   "nbconvert_exporter": "python",
   "pygments_lexer": "ipython3",
   "version": "3.10.11"
  }
 },
 "nbformat": 4,
 "nbformat_minor": 5
}
