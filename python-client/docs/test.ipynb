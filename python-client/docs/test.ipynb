{
 "cells": [
  {
   "cell_type": "code",
   "execution_count": 31,
   "metadata": {
    "collapsed": true
   },
   "outputs": [],
   "source": [
    "import giskard\n",
    "import inspect\n",
    "import sys, os\n",
    "sys.path.insert(0, os.path.abspath('../'))\n",
    "def linkcode_resolve(domain, info):\n",
    "    if domain != \"py\":\n",
    "        return None\n",
    "\n",
    "    modname = info[\"module\"]\n",
    "    fullname = info[\"fullname\"]\n",
    "\n",
    "    submod = sys.modules.get(modname)\n",
    "    print(submod)\n",
    "    if submod is None:\n",
    "        return None\n",
    "\n",
    "    for part in fullname.split(\".\"):\n",
    "        try:\n",
    "            obj = getattr(submod, part)\n",
    "            print(obj)\n",
    "        except:  # noqa: E722\n",
    "            return None\n",
    "\n",
    "    try:\n",
    "        fn = inspect.getsourcefile(obj.test_fn) # TODO: generalise for other objects!\n",
    "        print(fn)\n",
    "    except:  # noqa: E722\n",
    "        fn = None\n",
    "    if not fn:\n",
    "        return None\n",
    "\n",
    "    try:\n",
    "        source, lineno = inspect.getsourcelines(obj)\n",
    "    except:  # noqa: E722\n",
    "        lineno = None\n",
    "\n",
    "    if lineno:\n",
    "        linespec = \"#L%d-L%d\" % (lineno, lineno + len(source) - 1)\n",
    "    else:\n",
    "        linespec = \"\"\n",
    "\n",
    "    filename = fn.split(\"python-client\", 1)[-1]\n",
    "    return f\"https://github.com/Giskard-AI/giskard/blob/feature/ai-test-v2-merged/python-client{filename}{linespec}\"\n"
   ]
  },
  {
   "cell_type": "code",
   "execution_count": 32,
   "outputs": [
    {
     "name": "stdout",
     "output_type": "stream",
     "text": [
      "<module 'giskard' from '/Users/rak/Documents/giskard_repos/giskard_1/python-client/giskard/__init__.py'>\n",
      "Test object hasn't been initialized, call it by providing the inputs\n",
      "/Users/rak/Documents/giskard_repos/giskard_1/python-client/giskard/ml_worker/testing/tests/drift.py\n"
     ]
    },
    {
     "data": {
      "text/plain": "'https://github.com/Giskard-AI/giskard/blob/feature/ai-test-v2-merged/python-client/giskard/ml_worker/testing/tests/drift.py#L171-L228'"
     },
     "execution_count": 32,
     "metadata": {},
     "output_type": "execute_result"
    }
   ],
   "source": [
    "linkcode_resolve(\"py\", {'module': 'giskard', 'fullname': 'test_drift_psi'})"
   ],
   "metadata": {
    "collapsed": false
   }
  },
  {
   "cell_type": "code",
   "execution_count": 19,
   "outputs": [
    {
     "data": {
      "text/plain": "<module 'giskard' from '/Users/rak/Documents/giskard_repos/giskard_1/python-client/giskard/__init__.py'>"
     },
     "execution_count": 19,
     "metadata": {},
     "output_type": "execute_result"
    }
   ],
   "source": [
    "import sys\n",
    "import giskard\n",
    "import inspect\n",
    "from importlib import import_module\n",
    "\n",
    "obj = sys.modules.get(\"giskard\") #sys.modules.get(\"giskard.ml_worker.testing.tests.drift\")\n",
    "part = \"test_drift_psi\"\n",
    "func = getattr(obj, part)\n",
    "fn = inspect.getsourcefile(obj)\n",
    "source, lineno = inspect.getsourcelines(func)\n",
    "linespec = \"#L%d-L%d\" % (lineno, lineno + len(source) - 1)\n",
    "obj"
   ],
   "metadata": {
    "collapsed": false
   }
  },
  {
   "cell_type": "code",
   "execution_count": 22,
   "outputs": [
    {
     "data": {
      "text/plain": "'/Users/rak/Documents/giskard_repos/giskard_1/python-client/giskard/ml_worker/testing/tests/drift.py'"
     },
     "execution_count": 22,
     "metadata": {},
     "output_type": "execute_result"
    }
   ],
   "source": [
    "inspect.getsourcefile(func.test_fn)"
   ],
   "metadata": {
    "collapsed": false
   }
  },
  {
   "cell_type": "code",
   "execution_count": null,
   "outputs": [],
   "source": [],
   "metadata": {
    "collapsed": false
   }
  }
 ],
 "metadata": {
  "kernelspec": {
   "display_name": "Python 3",
   "language": "python",
   "name": "python3"
  },
  "language_info": {
   "codemirror_mode": {
    "name": "ipython",
    "version": 2
   },
   "file_extension": ".py",
   "mimetype": "text/x-python",
   "name": "python",
   "nbconvert_exporter": "python",
   "pygments_lexer": "ipython2",
   "version": "2.7.6"
  }
 },
 "nbformat": 4,
 "nbformat_minor": 0
}
