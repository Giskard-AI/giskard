{
 "cells": [
  {
   "cell_type": "markdown",
   "metadata": {
    "collapsed": false
   },
   "source": [
    "# Example script\n",
    "\n",
    "This example showcases how to wrap you test to integrate them with pytest."
   ]
  },
  {
   "cell_type": "code",
   "execution_count": null,
   "metadata": {
    "collapsed": false
   },
   "outputs": [],
   "source": [
    "import pytest\n",
    "\n",
    "from giskard import Dataset, Model, Suite, demo\n",
    "from giskard.testing import test_accuracy, test_f1\n",
    "\n",
    "model_raw, df = demo.titanic()\n",
    "\n",
    "wrapped_dataset = Dataset(\n",
    "    name=\"Test Data Set\",\n",
    "    df=df,\n",
    "    target=\"Survived\",\n",
    "    cat_columns=[\"Pclass\", \"Sex\", \"SibSp\", \"Parch\", \"Embarked\"],\n",
    ")\n",
    "\n",
    "wrapped_model = Model(model=model_raw, model_type=\"classification\", name=\"Classifier v1\")\n",
    "\n",
    "suite = (\n",
    "    Suite(\n",
    "        default_params={\n",
    "            \"model\": wrapped_model,\n",
    "            \"dataset\": wrapped_dataset,\n",
    "        }\n",
    "    )\n",
    "    .add_test(test_f1(threshold=0.6))\n",
    "    .add_test(test_accuracy(threshold=1))  # Certain to fail\n",
    ")\n",
    "\n",
    "\n",
    "@pytest.fixture\n",
    "def dataset():\n",
    "    return wrapped_dataset\n",
    "\n",
    "\n",
    "@pytest.fixture\n",
    "def model():\n",
    "    return wrapped_model\n",
    "\n",
    "\n",
    "# Single wrapped test\n",
    "def test_only_accuracy(dataset, model):\n",
    "    test_accuracy(model=model, dataset=dataset, threshold=1).assert_()\n",
    "\n",
    "\n",
    "# Parametrise tests from suite\n",
    "@pytest.mark.parametrize(\"test_partial\", suite.to_unittest(), ids=lambda t: t.fullname)\n",
    "def test_giskard(test_partial):\n",
    "    test_partial.assert_()\n"
   ]
  },
  {
   "cell_type": "markdown",
   "metadata": {
    "collapsed": false
   },
   "source": []
  }
 ],
 "metadata": {
  "kernelspec": {
   "display_name": "Python 3",
   "language": "python",
   "name": "python3"
  },
  "language_info": {
   "codemirror_mode": {
    "name": "ipython",
    "version": 2
   },
   "file_extension": ".py",
   "mimetype": "text/x-python",
   "name": "python",
   "nbconvert_exporter": "python",
   "pygments_lexer": "ipython2",
   "version": "2.7.6"
  }
 },
 "nbformat": 4,
 "nbformat_minor": 0
}
