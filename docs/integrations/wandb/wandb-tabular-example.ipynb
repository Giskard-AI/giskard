{
 "cells": [
  {
   "cell_type": "markdown",
   "source": [
    "# Notebook Example - Tabular"
   ],
   "metadata": {
    "collapsed": false
   }
  },
  {
   "cell_type": "markdown",
   "source": [
    "## Detecting tabular ML models vulnerabilities in W&B with Giskard\n",
    "This example demonstrates how to efficiently scan two tabular ML models for hidden vulnerabilities using Giskard, log the results and interpret them within the W&B framework in just a few lines of code. We will use the following two tabular ML models:\n",
    "\n",
    "| Model    | Description                                         | Training data   |\n",
    "|----------|-----------------------------------------------------|-----------------|\n",
    "| `model1` | A `LGBMClassifier` model trained only for 5 epochs. | Titanic dataset |\n",
    "| `model2` | A `LGBMClassifier` model trained for 100 epochs.    | Titanic dataset |"
   ],
   "metadata": {
    "collapsed": false
   }
  },
  {
   "cell_type": "code",
   "execution_count": null,
   "outputs": [],
   "source": [
    "import wandb\n",
    "\n",
    "from giskard import Model, Dataset, demo, explain_with_shap, scan\n",
    "\n",
    "model1, df = demo.titanic(model=\"LGBMClassifier\", max_iter=5)\n",
    "model2, __ = demo.titanic(model=\"LGBMClassifier\", max_iter=100)  # Datasets are identical.\n",
    "models = {\"titanic-model_lgbm_max_iter=5\": model1, \"titanic-model_lgbm_max_iter=100\": model2}\n",
    "\n",
    "wrapped_data = Dataset(df=df, \n",
    "                       target=\"Survived\",\n",
    "                       cat_columns=['Pclass', 'Sex', \"SibSp\", \"Parch\", \"Embarked\"])\n",
    "\n",
    "for model_name, model in models.items():\n",
    "    wrapped_model = Model(model=model.predict_proba,\n",
    "                          model_type=\"classification\",\n",
    "                          feature_names=['PassengerId', 'Pclass', 'Name', 'Sex', 'Age', 'SibSp', 'Parch', 'Fare', 'Embarked'], \n",
    "                          classification_labels=model.classes_)\n",
    "    \n",
    "    # Log results to the new W&B run.\n",
    "    wrapped_data.to_wandb(name=model_name)\n",
    "    \n",
    "    shap_explanation_result = explain_with_shap(wrapped_model, wrapped_data)\n",
    "    shap_explanation_result.to_wandb()\n",
    "    \n",
    "    scan_results = scan(wrapped_model, wrapped_data)\n",
    "    scan_results.to_wandb()\n",
    "    \n",
    "    test_suite = scan_results.generate_test_suite()\n",
    "    test_suite.run().to_wandb()\n",
    "\n",
    "    # Finish a current run.\n",
    "    wandb.finish()"
   ],
   "metadata": {
    "collapsed": false
   }
  },
  {
   "cell_type": "markdown",
   "source": [
    "After logging the results, you can visualise them on the W&B User Interface by running `wandb server start` via <http://localhost:8080>. You will be able to visualise the following:\n",
    "  \n",
    "### The dataset\n",
    "<img src=\"../../assets/integrations/wandb/dataset.png\">\n",
    "\n",
    "### The SHAP bar plots for categorical features\n",
    "<img src=\"../../assets/integrations/wandb/categorical-chart.png\">\n",
    "\n",
    "### The SHAP scatter plots for numerical features\n",
    "<img src=\"../../assets/integrations/wandb/numerical-chart.png\">\n",
    "\n",
    "### The SHAP global feature importance plot\n",
    "<img src=\"../../assets/integrations/wandb/global-chart.png\">\n",
    "\n",
    "### The Giskard scan results\n",
    "<img src=\"../../assets/integrations/wandb/scanning-result.png\">\n",
    "\n",
    "### The Giskard test-suite results\n",
    "<img src=\"../../assets/integrations/wandb/test-suite-result.png\">"
   ],
   "metadata": {
    "collapsed": false
   }
  }
 ],
 "metadata": {
  "kernelspec": {
   "display_name": "Python 3",
   "language": "python",
   "name": "python3"
  },
  "language_info": {
   "codemirror_mode": {
    "name": "ipython",
    "version": 2
   },
   "file_extension": ".py",
   "mimetype": "text/x-python",
   "name": "python",
   "nbconvert_exporter": "python",
   "pygments_lexer": "ipython2",
   "version": "2.7.6"
  }
 },
 "nbformat": 4,
 "nbformat_minor": 0
}
