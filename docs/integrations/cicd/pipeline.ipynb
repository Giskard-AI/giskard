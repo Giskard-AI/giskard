{
 "cells": [
  {
   "cell_type": "markdown",
   "source": [
    "# 🚀 Execute your test suite in your CI/CD pipeline\n",
    "\n",
    "<div class=\"alert alert-warning\">\n",
    "Warning\n",
    "\n",
    "First you'll need to know how to run Giskard's scan function\n",
    "see [Scan your ML Model](../scan/index.md)\n",
    "</div>\n",
    "\n",
    "By integrating Giskard into your CI/CD pipeline, you can run the scan function on every commit to your repository, ensuring that new models don't introduce new vulnerabilities.\n",
    "\n",
    "## Create a script to scan your model\n",
    "\n",
    "By referring to the [Scan your ML Model](../scan/index.md) guide, you can create a script that will scan your model. We will refer to this python script as `scan.py` in this guide."
   ],
   "metadata": {
    "collapsed": false
   }
  },
  {
   "cell_type": "code",
   "execution_count": null,
   "outputs": [],
   "source": [
    "from giskard import demo, Model, Dataset, scan\n",
    "\n",
    "model, df = demo.titanic()\n",
    "\n",
    "# By following previous user guides, you will be shown how to use your own model and dataset.\n",
    "# For example purposes, we will use the demo model and dataset.\n",
    "wrapped_model = Model(model=model, model_type=\"classification\")\n",
    "wrapped_dataset = Dataset(df=df, target=\"Survived\", cat_columns=['Pclass', 'Sex', \"SibSp\", \"Parch\", \"Embarked\"])\n",
    "\n",
    "scan_results = scan(wrapped_model, wrapped_dataset)\n",
    "if scan_results.has_vulnerabilities:\n",
    "    print(\"Your model has vulnerabilities\")\n",
    "    exit(1)\n",
    "else:\n",
    "    print(\"Your model is safe\")\n",
    "    exit(0)"
   ],
   "metadata": {
    "collapsed": false
   }
  },
  {
   "cell_type": "markdown",
   "source": [
    "\n",
    "This is a basic example, but you can enhance the script by adding more logic to determine the safety of the model. For instance, you could consider the criticality or number of vulnerabilities and make the safety decision based on that."
   ],
   "metadata": {
    "collapsed": false
   }
  },
  {
   "cell_type": "markdown",
   "source": [
    "## Add the script to your CI/CD pipeline\n",
    "\n",
    "To include the model scanning script in your CI/CD pipeline, add a new job to your workflow file on GitHub."
   ],
   "metadata": {
    "collapsed": false
   }
  },
  {
   "cell_type": "markdown",
   "source": [
    "```yaml\n",
    "name: Giskard CI/CD tutorial\n",
    "\n",
    "on:\n",
    "  push:\n",
    "    branches:\n",
    "      - main\n",
    "\n",
    "jobs:\n",
    "  automatic_scan:\n",
    "    runs-on: ubuntu-latest\n",
    "    steps:\n",
    "      - name: checkout repo content\n",
    "        uses: actions/checkout@v2 # checkout the repository content to github runner\n",
    "\n",
    "      - name: setup python\n",
    "        uses: actions/setup-python@v2\n",
    "        with:\n",
    "          python-version: '3.8.16' # install the python version needed\n",
    "\n",
    "      - run: pip install -r requirements.txt\n",
    "\n",
    "      - name: execute test script\n",
    "        run: |\n",
    "          python scan.py\n",
    "        id: test_output\n",
    "```\n",
    "\n",
    "Adding to this file, you will also need a `requirements.txt` file that contains the dependencies needed to run your script. In this case, we will need to add `giskard` to the file.\n",
    "\n",
    "> requirements.txt\n",
    "```txt\n",
    "giskard\n",
    "```"
   ],
   "metadata": {
    "collapsed": false
   }
  },
  {
   "cell_type": "markdown",
   "source": [
    "The above job will run on every push to the main branch of your repository. It will then run a simple script to scan your model for vulnerabilities, and the job will fail if any vulnerability has been found. You may also want to add a job that runs on pull requests to the main branch, to ensure that no new vulnerabilities are introduced by the pull request.\n",
    "\n",
    "<div class=\"alert alert-info\">\n",
    "Using Test Suites\n",
    "\n",
    "You can also use custom test suites to validate your model. Refer to the [Test your ML Model](../test-suite/index.html) guide, and modify the `scan.py` script to run your test suite.\n",
    "</div>"
   ],
   "metadata": {
    "collapsed": false
   }
  },
  {
   "cell_type": "markdown",
   "source": [],
   "metadata": {
    "collapsed": false
   }
  }
 ],
 "metadata": {
  "kernelspec": {
   "display_name": "Python 3",
   "language": "python",
   "name": "python3"
  },
  "language_info": {
   "codemirror_mode": {
    "name": "ipython",
    "version": 2
   },
   "file_extension": ".py",
   "mimetype": "text/x-python",
   "name": "python",
   "nbconvert_exporter": "python",
   "pygments_lexer": "ipython2",
   "version": "2.7.6"
  }
 },
 "nbformat": 4,
 "nbformat_minor": 0
}
