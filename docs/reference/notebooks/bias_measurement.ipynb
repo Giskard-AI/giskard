{
 "cells": [
  {
   "cell_type": "markdown",
   "metadata": {},
   "source": [
    "All the methods in this notebook are based on this paper from F. Kamiran and T. Calders: [Data preprocessing techniques for classification without discrimination](https://doi.org/10.1007/s10115-011-0463-8)"
   ]
  },
  {
   "cell_type": "markdown",
   "metadata": {},
   "source": [
    "### Context and objectives\n",
    "\n",
    "Our goal will be to measure and mitigate bias on a classifier. The dataset that will be used is the statlog_german_credit_data dataset.\n",
    "\n",
    "Please note that this dataset is quite old and hard to understand due to its complicated system of categories and symbols. As such, we turn to this simplified version of the dataset: [German Credit](https://www.kaggle.com/datasets/kabure/german-credit-data-with-risk).\n",
    "Several columns were ignored because they were considered unimportant to the author, but it does not really matter for our case.  \n",
    "You can still check the original [here](https://archive.ics.uci.edu/dataset/144/statlog+german+credit+data). Its description mentions: \n",
    "> This dataset classifies people described by a set of attributes as good or bad credit risks.\n",
    "\n",
    "As such, the objective of the classifier we are trying to build is to predict whether a client will repay the loan based on their application. The model might perform very well by leveraging all sorts of attributes. However, some of these features might be illegal to use even if they play a significant role in the predictions. For example, you would not want to use gender, ethnicity or age to make a decision (some laws actually ban such discrimination).\n",
    " \n",
    "**In this notebook, we will measure the gender-related bias in a dataset and a classifier.**"
   ]
  },
  {
   "cell_type": "markdown",
   "metadata": {},
   "source": [
    "### Import and prepare the data"
   ]
  },
  {
   "cell_type": "code",
   "execution_count": 1,
   "metadata": {},
   "outputs": [
    {
     "name": "stderr",
     "output_type": "stream",
     "text": [
      "/opt/homebrew/lib/python3.11/site-packages/tqdm/auto.py:21: TqdmWarning: IProgress not found. Please update jupyter and ipywidgets. See https://ipywidgets.readthedocs.io/en/stable/user_install.html\n",
      "  from .autonotebook import tqdm as notebook_tqdm\n"
     ]
    }
   ],
   "source": [
    "import pandas as pd\n",
    "import numpy as np\n",
    "\n",
    "from sklearn.compose import ColumnTransformer\n",
    "from sklearn.impute import SimpleImputer\n",
    "from sklearn.linear_model import LogisticRegression\n",
    "from sklearn.metrics import classification_report\n",
    "from sklearn.model_selection import train_test_split\n",
    "from sklearn.pipeline import Pipeline\n",
    "from sklearn.preprocessing import OneHotEncoder, StandardScaler\n",
    "\n",
    "from giskard import Model, Dataset, SlicingFunction"
   ]
  },
  {
   "cell_type": "code",
   "execution_count": 2,
   "metadata": {},
   "outputs": [
    {
     "name": "stdout",
     "output_type": "stream",
     "text": [
      "<class 'pandas.core.frame.DataFrame'>\n",
      "RangeIndex: 1000 entries, 0 to 999\n",
      "Data columns (total 11 columns):\n",
      " #   Column            Non-Null Count  Dtype \n",
      "---  ------            --------------  ----- \n",
      " 0   Unnamed: 0        1000 non-null   int64 \n",
      " 1   Age               1000 non-null   int64 \n",
      " 2   Sex               1000 non-null   object\n",
      " 3   Job               1000 non-null   int64 \n",
      " 4   Housing           1000 non-null   object\n",
      " 5   Saving accounts   817 non-null    object\n",
      " 6   Checking account  606 non-null    object\n",
      " 7   Credit amount     1000 non-null   int64 \n",
      " 8   Duration          1000 non-null   int64 \n",
      " 9   Purpose           1000 non-null   object\n",
      " 10  Risk              1000 non-null   object\n",
      "dtypes: int64(5), object(6)\n",
      "memory usage: 86.1+ KB\n"
     ]
    }
   ],
   "source": [
    "raw_data = pd.read_csv(\"german_credit_data_with_risk.csv\")\n",
    "raw_data.info()"
   ]
  },
  {
   "cell_type": "markdown",
   "metadata": {},
   "source": [
    "We remove the first column which is just another index."
   ]
  },
  {
   "cell_type": "code",
   "execution_count": 3,
   "metadata": {},
   "outputs": [
    {
     "data": {
      "text/html": [
       "<div>\n",
       "<style scoped>\n",
       "    .dataframe tbody tr th:only-of-type {\n",
       "        vertical-align: middle;\n",
       "    }\n",
       "\n",
       "    .dataframe tbody tr th {\n",
       "        vertical-align: top;\n",
       "    }\n",
       "\n",
       "    .dataframe thead th {\n",
       "        text-align: right;\n",
       "    }\n",
       "</style>\n",
       "<table border=\"1\" class=\"dataframe\">\n",
       "  <thead>\n",
       "    <tr style=\"text-align: right;\">\n",
       "      <th></th>\n",
       "      <th>Age</th>\n",
       "      <th>Sex</th>\n",
       "      <th>Job</th>\n",
       "      <th>Housing</th>\n",
       "      <th>Saving accounts</th>\n",
       "      <th>Checking account</th>\n",
       "      <th>Credit amount</th>\n",
       "      <th>Duration</th>\n",
       "      <th>Purpose</th>\n",
       "      <th>Risk</th>\n",
       "    </tr>\n",
       "  </thead>\n",
       "  <tbody>\n",
       "    <tr>\n",
       "      <th>0</th>\n",
       "      <td>67</td>\n",
       "      <td>male</td>\n",
       "      <td>2</td>\n",
       "      <td>own</td>\n",
       "      <td>NaN</td>\n",
       "      <td>little</td>\n",
       "      <td>1169</td>\n",
       "      <td>6</td>\n",
       "      <td>radio/TV</td>\n",
       "      <td>good</td>\n",
       "    </tr>\n",
       "    <tr>\n",
       "      <th>1</th>\n",
       "      <td>22</td>\n",
       "      <td>female</td>\n",
       "      <td>2</td>\n",
       "      <td>own</td>\n",
       "      <td>little</td>\n",
       "      <td>moderate</td>\n",
       "      <td>5951</td>\n",
       "      <td>48</td>\n",
       "      <td>radio/TV</td>\n",
       "      <td>bad</td>\n",
       "    </tr>\n",
       "    <tr>\n",
       "      <th>2</th>\n",
       "      <td>49</td>\n",
       "      <td>male</td>\n",
       "      <td>1</td>\n",
       "      <td>own</td>\n",
       "      <td>little</td>\n",
       "      <td>NaN</td>\n",
       "      <td>2096</td>\n",
       "      <td>12</td>\n",
       "      <td>education</td>\n",
       "      <td>good</td>\n",
       "    </tr>\n",
       "    <tr>\n",
       "      <th>3</th>\n",
       "      <td>45</td>\n",
       "      <td>male</td>\n",
       "      <td>2</td>\n",
       "      <td>free</td>\n",
       "      <td>little</td>\n",
       "      <td>little</td>\n",
       "      <td>7882</td>\n",
       "      <td>42</td>\n",
       "      <td>furniture/equipment</td>\n",
       "      <td>good</td>\n",
       "    </tr>\n",
       "    <tr>\n",
       "      <th>4</th>\n",
       "      <td>53</td>\n",
       "      <td>male</td>\n",
       "      <td>2</td>\n",
       "      <td>free</td>\n",
       "      <td>little</td>\n",
       "      <td>little</td>\n",
       "      <td>4870</td>\n",
       "      <td>24</td>\n",
       "      <td>car</td>\n",
       "      <td>bad</td>\n",
       "    </tr>\n",
       "  </tbody>\n",
       "</table>\n",
       "</div>"
      ],
      "text/plain": [
       "   Age     Sex  Job Housing Saving accounts Checking account  Credit amount  \\\n",
       "0   67    male    2     own             NaN           little           1169   \n",
       "1   22  female    2     own          little         moderate           5951   \n",
       "2   49    male    1     own          little              NaN           2096   \n",
       "3   45    male    2    free          little           little           7882   \n",
       "4   53    male    2    free          little           little           4870   \n",
       "\n",
       "   Duration              Purpose  Risk  \n",
       "0         6             radio/TV  good  \n",
       "1        48             radio/TV   bad  \n",
       "2        12            education  good  \n",
       "3        42  furniture/equipment  good  \n",
       "4        24                  car   bad  "
      ]
     },
     "execution_count": 3,
     "metadata": {},
     "output_type": "execute_result"
    }
   ],
   "source": [
    "raw_data.drop('Unnamed: 0', axis=1, inplace=True)\n",
    "raw_data.head()"
   ]
  },
  {
   "cell_type": "code",
   "execution_count": 4,
   "metadata": {},
   "outputs": [],
   "source": [
    "COLUMN_TYPES = {\n",
    "    \"Sex\": \"category\",\n",
    "    \"Job\": \"category\",\n",
    "    \"Age\": \"numeric\",\n",
    "    \"Housing\": \"category\",\n",
    "    \"Saving accounts\": \"category\",\n",
    "    \"Checking account\": \"category\",\n",
    "    \"Credit amount\": \"numeric\",\n",
    "    \"Duration\": \"numeric\",\n",
    "    \"Purpose\": \"category\",\n",
    "}\n",
    "\n",
    "TARGET_COLUMN_NAME = \"Risk\"\n",
    "\n",
    "COLUMNS_TO_SCALE = [key for key in COLUMN_TYPES.keys() if COLUMN_TYPES[key] == \"numeric\"]\n",
    "COLUMNS_TO_ENCODE = [key for key in COLUMN_TYPES.keys() if COLUMN_TYPES[key] == \"category\"]"
   ]
  },
  {
   "cell_type": "code",
   "execution_count": 5,
   "metadata": {},
   "outputs": [],
   "source": [
    "numeric_transformer = Pipeline(steps=[\n",
    "    (\"imputer\", SimpleImputer(strategy=\"median\")),\n",
    "    (\"scaler\", StandardScaler())\n",
    "])\n",
    "\n",
    "categorical_transformer = Pipeline([\n",
    "    (\"imputer\", SimpleImputer(strategy=\"constant\", fill_value=\"no\")),\n",
    "    (\"onehot\", OneHotEncoder(handle_unknown=\"ignore\", sparse_output=False)),\n",
    "])\n",
    "\n",
    "preprocessor = ColumnTransformer(transformers=[\n",
    "    (\"num\", numeric_transformer, COLUMNS_TO_SCALE),\n",
    "    (\"cat\", categorical_transformer, COLUMNS_TO_ENCODE),\n",
    "])"
   ]
  },
  {
   "cell_type": "markdown",
   "metadata": {},
   "source": [
    "In the original dataset, some features such as `Saving accounts` or `Checking accounts` could be set to a value representing *no account* or *unknown account*, which were translated as null in this dataset. Thus, we will just fill the null values with *no*.\n",
    "\n",
    "Now there are a lot of `object`type features, for which one-hot encoding works perfectly.\n",
    "\n",
    "For the columns of type `int64` that have large range (`Credit Amount`, `Age` and `Duration`), we scale the features to ensure that some of them do not dominate the regression model simply because of their larger ranges."
   ]
  },
  {
   "cell_type": "markdown",
   "metadata": {},
   "source": [
    "We now define the protected attribute and the values it can take, as well as the possible outcomes."
   ]
  },
  {
   "cell_type": "code",
   "execution_count": 6,
   "metadata": {},
   "outputs": [],
   "source": [
    "protected_attribute = 'Sex'\n",
    "protected_value = 'male'\n",
    "unprotected_value = 'female'\n",
    "positive_outcome = 'good'\n",
    "negative_outcome = 'bad'"
   ]
  },
  {
   "cell_type": "code",
   "execution_count": 7,
   "metadata": {},
   "outputs": [],
   "source": [
    "X_train, X_test, Y_train, Y_test = train_test_split(raw_data.drop(columns=TARGET_COLUMN_NAME), raw_data[TARGET_COLUMN_NAME],\n",
    "                                                    test_size=0.2, random_state=42)\n",
    "\n",
    "train_set = pd.concat([X_train, Y_train], axis=1)"
   ]
  },
  {
   "cell_type": "markdown",
   "metadata": {},
   "source": [
    "### Compute metrics to measure discrimination"
   ]
  },
  {
   "cell_type": "markdown",
   "metadata": {},
   "source": [
    "Now let's check for discrimination.\n",
    "We compute probabilities by selecting and counting rows. Then, we can then compute Statistical Parity Difference (SPD) and Disparate Impact (DI), which are defined as such, with $Group$ describing the group the sample belongs to (can be defavorited, noted $b$, or favorited, noted $w$) and $Class$ being its label ($+$ or $-$):\n",
    "$$SPD = P(y_{pred} = + ∣ Group = b) - P(y_{pred} = + ∣ Group = w)$$\n",
    "$$DI = \\frac{P(y_{pred} = + ∣ Group = b)}{P(y_{pred} = + ∣ Group = w)}$$\n",
    "\n",
    "In our case, $Group = b$ means that the applicant is female while $Group = w$ means it is a male.\n",
    "These metrics directly compare the probability of a favorable outcome for a defavored group against that of a favored group.\n",
    "We consider SPD to be relevant as the test statistic that would be used for a two-sample t test (assuming unknown and potentially different variances) would rely on it (see formula below). We also consider DI to show that there are other metrics that could very much be used.\n",
    "\n",
    "$$ \\frac{\\bar x_1 - \\bar x_2}{\\sqrt{\\frac{s_1^2}{n_1} + \\frac{s_2^2}{n_2}}} = \\frac{SPD}{\\sqrt{\\frac{s_1^2}{n_1} + \\frac{s_2^2}{n_2}}}, $$\n",
    "with $\\bar x_i$ being the proportion the positive samples from group i (for example a men and women that were given a loan), $s_i$ and $n_i$ being the empirical standard deviation and the size of group i.\n",
    "\n",
    "As such, taking the difference in probability makes sense when measuring the severity of the discrimination at hand.\n",
    "SPD should be as close to 0 as possible while DI should be closer to 1.\n",
    "\n",
    "We will compute them by using the following:\n",
    "\n",
    "$$ P(y_{pred} = X ∣ Group = Y) = \\frac{|\\{X \\in D | y_{pred} = X and Group = Y\\}|}{|\\{X \\in D | Group = Y\\}|},$$\n",
    "\n",
    "D being the dataset we use."
   ]
  },
  {
   "cell_type": "markdown",
   "metadata": {},
   "source": [
    "### Let's check for discrimination from within the dataset\n",
    "\n",
    "To get a better understanding of how everything works beneath the surface, let's compute SPD and DI values by hand for the training set."
   ]
  },
  {
   "cell_type": "code",
   "execution_count": 8,
   "metadata": {},
   "outputs": [
    {
     "name": "stdout",
     "output_type": "stream",
     "text": [
      "SPD = -0.08931095151567592\n",
      "DI = 0.8771693210892719\n"
     ]
    }
   ],
   "source": [
    "n_fav = (train_set[protected_attribute] == protected_value).sum()\n",
    "n_defav = (train_set[protected_attribute] == unprotected_value).sum()\n",
    "\n",
    "counts = train_set.groupby([protected_attribute, TARGET_COLUMN_NAME]).size()\n",
    "spd = counts[unprotected_value][positive_outcome]/n_defav - counts[protected_value][positive_outcome]/n_fav\n",
    "di = (counts[unprotected_value][positive_outcome]/n_defav) / (counts[protected_value][positive_outcome]/n_fav)\n",
    "\n",
    "print(f\"SPD = {spd}\\nDI = {di}\")"
   ]
  },
  {
   "cell_type": "markdown",
   "metadata": {},
   "source": [
    "We can clearly that there is bias within the dataset, as women are 9% less likely to get a loan compared to men. "
   ]
  },
  {
   "cell_type": "markdown",
   "metadata": {},
   "source": [
    "### Building a classifier\n",
    "\n",
    "Let's build a very basic classifier that we will then evaluate using Giskard's methods"
   ]
  },
  {
   "cell_type": "code",
   "execution_count": 9,
   "metadata": {},
   "outputs": [
    {
     "name": "stdout",
     "output_type": "stream",
     "text": [
      "2024-05-24 17:48:26,898 pid:8041 MainThread giskard.datasets.base INFO     Your 'pandas.DataFrame' is successfully wrapped by Giskard's 'Dataset' wrapper class.\n"
     ]
    }
   ],
   "source": [
    "test_set = pd.concat([X_test, Y_test], axis=1)\n",
    "giskard_dataset = Dataset(\n",
    "    df=test_set,  # A pandas.DataFrame containing raw data (before pre-processing) and including ground truth variable.\n",
    "    target=TARGET_COLUMN_NAME,  # Ground truth variable\n",
    "    name=\"credit scoring\", # Optional: Give a name to your dataset\n",
    "    cat_columns=COLUMNS_TO_ENCODE,\n",
    "    column_types=COLUMN_TYPES\n",
    ")"
   ]
  },
  {
   "cell_type": "code",
   "execution_count": 10,
   "metadata": {},
   "outputs": [
    {
     "name": "stdout",
     "output_type": "stream",
     "text": [
      "              precision    recall  f1-score   support\n",
      "\n",
      "         bad       0.65      0.41      0.50        59\n",
      "        good       0.79      0.91      0.84       141\n",
      "\n",
      "    accuracy                           0.76       200\n",
      "   macro avg       0.72      0.66      0.67       200\n",
      "weighted avg       0.74      0.76      0.74       200\n",
      "\n"
     ]
    }
   ],
   "source": [
    "pipeline = Pipeline(steps=[\n",
    "    (\"preprocessor\", preprocessor),\n",
    "    (\"classifier\", LogisticRegression(max_iter=800))\n",
    "])\n",
    "\n",
    "pipeline.fit(X_train, Y_train)\n",
    "\n",
    "pred_train = pipeline.predict(X_train)\n",
    "pred_test = pipeline.predict(X_test)\n",
    "\n",
    "print(classification_report(Y_test, pred_test))"
   ]
  },
  {
   "cell_type": "markdown",
   "metadata": {},
   "source": [
    "We wrap the model with Giskard and make sure everything is running smoothly."
   ]
  },
  {
   "cell_type": "code",
   "execution_count": 11,
   "metadata": {},
   "outputs": [
    {
     "name": "stdout",
     "output_type": "stream",
     "text": [
      "2024-05-24 17:48:33,675 pid:8041 MainThread giskard.models.automodel INFO     Your 'model' is successfully wrapped by Giskard's 'SKLearnModel' wrapper class.\n",
      "2024-05-24 17:48:33,685 pid:8041 MainThread giskard.datasets.base INFO     Casting dataframe columns from {'Age': 'int64', 'Sex': 'object', 'Job': 'int64', 'Housing': 'object', 'Saving accounts': 'object', 'Checking account': 'object', 'Credit amount': 'int64', 'Duration': 'int64', 'Purpose': 'object'} to {'Age': 'int64', 'Sex': 'object', 'Job': 'int64', 'Housing': 'object', 'Saving accounts': 'object', 'Checking account': 'object', 'Credit amount': 'int64', 'Duration': 'int64', 'Purpose': 'object'}\n",
      "2024-05-24 17:48:33,692 pid:8041 MainThread giskard.utils.logging_utils INFO     Predicted dataset with shape (200, 10) executed in 0:00:00.016139\n",
      "              precision    recall  f1-score   support\n",
      "\n",
      "         bad       0.65      0.41      0.50        59\n",
      "        good       0.79      0.91      0.84       141\n",
      "\n",
      "    accuracy                           0.76       200\n",
      "   macro avg       0.72      0.66      0.67       200\n",
      "weighted avg       0.74      0.76      0.74       200\n",
      "\n"
     ]
    }
   ],
   "source": [
    "giskard_model = Model(\n",
    "    model=pipeline,\n",
    "    # A prediction function that encapsulates all the data pre-processing steps and that could be executed with the dataset used by the scan.\n",
    "    model_type=\"classification\",  # Either regression, classification or text_generation.\n",
    "    name=\"Credit scoring classifier\",  # Optional.\n",
    "    classification_labels=pipeline.classes_.tolist(),\n",
    "    # Their order MUST be identical to the prediction_function's output order.\n",
    ")\n",
    "\n",
    "print(classification_report(Y_test, pipeline.classes_[giskard_model.predict(giskard_dataset).raw_prediction]))"
   ]
  },
  {
   "cell_type": "markdown",
   "metadata": {},
   "source": [
    "### Evaluating your model with Giskard\n",
    "\n",
    "We are now ready to run the Giskard tests!"
   ]
  },
  {
   "cell_type": "code",
   "execution_count": 12,
   "metadata": {},
   "outputs": [],
   "source": [
    "from giskard.testing import test_disparate_impact\n",
    "from giskard.testing import test_statistical_parity_difference\n",
    "\n",
    "protected_slicing_function=SlicingFunction(lambda df: df[df[protected_attribute] == protected_value], row_level=False)\n",
    "unprotected_slicing_function=SlicingFunction(lambda df: df[df[protected_attribute] == unprotected_value], row_level=False)\n",
    "\n",
    "result_di = test_disparate_impact(model=giskard_model, dataset=giskard_dataset, protected_slicing_function=protected_slicing_function, unprotected_slicing_function=unprotected_slicing_function, positive_outcome=positive_outcome)\n",
    "result_spd = test_statistical_parity_difference(model=giskard_model, dataset=giskard_dataset, protected_slicing_function=protected_slicing_function, unprotected_slicing_function=unprotected_slicing_function, positive_outcome=positive_outcome)"
   ]
  },
  {
   "cell_type": "code",
   "execution_count": 13,
   "metadata": {},
   "outputs": [
    {
     "name": "stdout",
     "output_type": "stream",
     "text": [
      "2024-05-24 17:48:33,749 pid:8041 MainThread giskard.datasets.base INFO     Casting dataframe columns from {'Age': 'int64', 'Sex': 'object', 'Job': 'int64', 'Housing': 'object', 'Saving accounts': 'object', 'Checking account': 'object', 'Credit amount': 'int64', 'Duration': 'int64', 'Purpose': 'object'} to {'Age': 'int64', 'Sex': 'object', 'Job': 'int64', 'Housing': 'object', 'Saving accounts': 'object', 'Checking account': 'object', 'Credit amount': 'int64', 'Duration': 'int64', 'Purpose': 'object'}\n",
      "2024-05-24 17:48:33,760 pid:8041 MainThread giskard.utils.logging_utils INFO     Predicted dataset with shape (144, 10) executed in 0:00:00.027997\n",
      "2024-05-24 17:48:33,772 pid:8041 MainThread giskard.datasets.base INFO     Casting dataframe columns from {'Age': 'int64', 'Sex': 'object', 'Job': 'int64', 'Housing': 'object', 'Saving accounts': 'object', 'Checking account': 'object', 'Credit amount': 'int64', 'Duration': 'int64', 'Purpose': 'object'} to {'Age': 'int64', 'Sex': 'object', 'Job': 'int64', 'Housing': 'object', 'Saving accounts': 'object', 'Checking account': 'object', 'Credit amount': 'int64', 'Duration': 'int64', 'Purpose': 'object'}\n",
      "2024-05-24 17:48:33,776 pid:8041 MainThread giskard.utils.logging_utils INFO     Predicted dataset with shape (56, 10) executed in 0:00:00.010995\n"
     ]
    },
    {
     "data": {
      "text/html": [
       "\n",
       "               <h4><span style=\"color:green;\">✓</span> Test succeeded</h4>\n",
       "               <p>Metric: 1.16<p>\n",
       "               <ul>\n",
       "               <li style=\"color:inherit;\">min_threshold = 0.8, max_threshold = 1.25</li>\n",
       "               </ul>\n",
       "               "
      ],
      "text/plain": [
       "\n",
       "               Test succeeded\n",
       "               Metric: 1.16\n",
       "                - [TestMessageLevel.INFO] min_threshold = 0.8, max_threshold = 1.25\n",
       "               "
      ]
     },
     "execution_count": 13,
     "metadata": {},
     "output_type": "execute_result"
    }
   ],
   "source": [
    "result_di.execute()"
   ]
  },
  {
   "cell_type": "code",
   "execution_count": 14,
   "metadata": {},
   "outputs": [
    {
     "name": "stdout",
     "output_type": "stream",
     "text": [
      "2024-05-24 17:48:33,836 pid:8041 MainThread giskard.datasets.base INFO     Casting dataframe columns from {'Age': 'int64', 'Sex': 'object', 'Job': 'int64', 'Housing': 'object', 'Saving accounts': 'object', 'Checking account': 'object', 'Credit amount': 'int64', 'Duration': 'int64', 'Purpose': 'object'} to {'Age': 'int64', 'Sex': 'object', 'Job': 'int64', 'Housing': 'object', 'Saving accounts': 'object', 'Checking account': 'object', 'Credit amount': 'int64', 'Duration': 'int64', 'Purpose': 'object'}\n",
      "2024-05-24 17:48:33,838 pid:8041 MainThread giskard.utils.logging_utils INFO     Predicted dataset with shape (144, 10) executed in 0:00:00.009964\n",
      "2024-05-24 17:48:33,845 pid:8041 MainThread giskard.datasets.base INFO     Casting dataframe columns from {'Age': 'int64', 'Sex': 'object', 'Job': 'int64', 'Housing': 'object', 'Saving accounts': 'object', 'Checking account': 'object', 'Credit amount': 'int64', 'Duration': 'int64', 'Purpose': 'object'} to {'Age': 'int64', 'Sex': 'object', 'Job': 'int64', 'Housing': 'object', 'Saving accounts': 'object', 'Checking account': 'object', 'Credit amount': 'int64', 'Duration': 'int64', 'Purpose': 'object'}\n",
      "2024-05-24 17:48:33,851 pid:8041 MainThread giskard.utils.logging_utils INFO     Predicted dataset with shape (56, 10) executed in 0:00:00.012157\n"
     ]
    },
    {
     "data": {
      "text/html": [
       "\n",
       "               <h4><span style=\"color:red;\">𐄂</span> Test failed</h4>\n",
       "               <p>Metric: 0.12<p>\n",
       "               <ul>\n",
       "               <li style=\"color:inherit;\">thresh = 0.1</li>\n",
       "               </ul>\n",
       "               "
      ],
      "text/plain": [
       "\n",
       "               Test failed\n",
       "               Metric: 0.12\n",
       "                - [TestMessageLevel.INFO] thresh = 0.1\n",
       "               "
      ]
     },
     "execution_count": 14,
     "metadata": {},
     "output_type": "execute_result"
    }
   ],
   "source": [
    "result_spd.execute()"
   ]
  },
  {
   "cell_type": "markdown",
   "metadata": {},
   "source": [
    "We can conclude from these figures that there **our classifier exhibits discrimination** based on sex which is highly undesirable. Women are 12% less likely to get a loan than men. Still they pass the 80% rule of disparate impact."
   ]
  },
  {
   "cell_type": "markdown",
   "metadata": {},
   "source": [
    "---"
   ]
  }
 ],
 "metadata": {
  "kernelspec": {
   "display_name": "Python 3",
   "language": "python",
   "name": "python3"
  },
  "language_info": {
   "codemirror_mode": {
    "name": "ipython",
    "version": 3
   },
   "file_extension": ".py",
   "mimetype": "text/x-python",
   "name": "python",
   "nbconvert_exporter": "python",
   "pygments_lexer": "ipython3",
   "version": "3.11.7"
  }
 },
 "nbformat": 4,
 "nbformat_minor": 2
}
